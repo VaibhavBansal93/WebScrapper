{
 "cells": [
  {
   "cell_type": "code",
   "execution_count": 56,
   "metadata": {},
   "outputs": [],
   "source": [
    "from selenium import webdriver\n",
    "import time\n",
    "from selenium.webdriver.common.keys import Keys"
   ]
  },
  {
   "cell_type": "code",
   "execution_count": 67,
   "metadata": {},
   "outputs": [
    {
     "data": {
      "text/plain": [
       "10"
      ]
     },
     "execution_count": 67,
     "metadata": {},
     "output_type": "execute_result"
    }
   ],
   "source": [
    "driver = webdriver.Chrome('/home/vaibhav/Downloads/executables/chromedriver_chrome_v78_linux64/chromedriver')\n",
    "driver.get('https://www.linkedin.com')\n",
    "\n",
    "# username = driver.find_element_by_id('session_key')\n",
    "# username.send_keys(\"vaibhavbansal@aol.com\")\n",
    "# password = driver.find_element_by_id('session_password')\n",
    "# password.send_keys('P@$$W0rd')\n",
    "# submit = driver.find_element_by_class_name(\"sign-in-form__submit-button\")\n",
    "# submit.click()\n",
    "\n",
    "driver.execute_script(\"window.open('about:blank', 'tab2');\")\n",
    "driver.switch_to.window(\"tab2\")\n",
    "driver.get(\"https://www.google.com\")\n",
    "\n",
    "search_query = driver.find_element_by_name('q')\n",
    "search_query.send_keys('site:linkedin.com/in/ AND \"python developer\" AND \"Bangalore\"')\n",
    "search_query.send_keys(Keys.RETURN)\n",
    "\n",
    "urls = driver.find_elements_by_class_name('r')\n",
    "len(urls)"
   ]
  },
  {
   "cell_type": "code",
   "execution_count": 69,
   "metadata": {},
   "outputs": [],
   "source": [
    "linkedin_urls = [url.text for url in urls]"
   ]
  },
  {
   "cell_type": "code",
   "execution_count": 70,
   "metadata": {},
   "outputs": [
    {
     "data": {
      "text/plain": [
       "'Python Developer - Maharashtra College - India - Pune ...\\nin.linkedin.com › python-developer-05a5ab192'"
      ]
     },
     "execution_count": 70,
     "metadata": {},
     "output_type": "execute_result"
    }
   ],
   "source": [
    "linkedin_urls[0]"
   ]
  },
  {
   "cell_type": "code",
   "execution_count": null,
   "metadata": {},
   "outputs": [],
   "source": []
  }
 ],
 "metadata": {
  "kernelspec": {
   "display_name": "Python 3",
   "language": "python",
   "name": "python3"
  },
  "language_info": {
   "codemirror_mode": {
    "name": "ipython",
    "version": 3
   },
   "file_extension": ".py",
   "mimetype": "text/x-python",
   "name": "python",
   "nbconvert_exporter": "python",
   "pygments_lexer": "ipython3",
   "version": "3.7.6"
  }
 },
 "nbformat": 4,
 "nbformat_minor": 4
}
