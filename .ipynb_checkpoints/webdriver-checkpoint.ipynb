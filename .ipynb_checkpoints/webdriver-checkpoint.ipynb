{
 "cells": [
  {
   "cell_type": "code",
   "execution_count": 8,
   "metadata": {},
   "outputs": [],
   "source": [
    "from selenium import webdriver"
   ]
  },
  {
   "cell_type": "code",
   "execution_count": 34,
   "metadata": {},
   "outputs": [],
   "source": [
    "driver = webdriver.Chrome('/home/vaibhav/Downloads/executables/chromedriver_chrome_v78_linux64/chromedriver')\n",
    "driver.get('https://www.linkedin.com')\n",
    "username = driver.find_element_by_id('session_key')\n",
    "username.send_keys(\"vaibhavbansal@aol.com\")\n",
    "password = driver.find_element_by_id('session_password')\n",
    "password.send_keys('P@$$W0rd')\n",
    "\n",
    "submit = driver.find_element_by_class_name(\"sign-in-form__submit-button\")\n",
    "submit.click()"
   ]
  },
  {
   "cell_type": "code",
   "execution_count": null,
   "metadata": {},
   "outputs": [],
   "source": []
  }
 ],
 "metadata": {
  "kernelspec": {
   "display_name": "Python 3",
   "language": "python",
   "name": "python3"
  },
  "language_info": {
   "codemirror_mode": {
    "name": "ipython",
    "version": 3
   },
   "file_extension": ".py",
   "mimetype": "text/x-python",
   "name": "python",
   "nbconvert_exporter": "python",
   "pygments_lexer": "ipython3",
   "version": "3.7.6"
  }
 },
 "nbformat": 4,
 "nbformat_minor": 4
}
